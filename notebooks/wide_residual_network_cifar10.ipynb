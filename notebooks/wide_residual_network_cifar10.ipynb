{
 "cells": [
  {
   "cell_type": "markdown",
   "metadata": {},
   "source": [
    "# Wide Residual Networks CIFAR 10 Example"
   ]
  },
  {
   "cell_type": "markdown",
   "metadata": {},
   "source": [
    "## Import and process the data"
   ]
  },
  {
   "cell_type": "code",
   "execution_count": null,
   "metadata": {},
   "outputs": [],
   "source": [
    "from keras import utils\n",
    "from keras.datasets import cifar10\n",
    "\n",
    "classes = 10\n",
    "img_rows, img_cols, img_channels = 32, 32, 3\n",
    "\n",
    "(trainX, trainY), (testX, testY) = cifar10.load_data()\n",
    "\n",
    "# Rescale and change data type of images\n",
    "trainX = trainX.astype('float32') / 255.\n",
    "testX = testX.astype('float32') / 255.\n",
    "\n",
    "# Convert labels to one-hot\n",
    "trainY = utils.to_categorical(trainY, classes)\n",
    "\n",
    "print(\"Train shape:\", trainX.shape)\n",
    "print(\"Test shape:\", testX.shape)"
   ]
  },
  {
   "cell_type": "markdown",
   "metadata": {},
   "source": [
    "## Data generators"
   ]
  },
  {
   "cell_type": "code",
   "execution_count": null,
   "metadata": {},
   "outputs": [],
   "source": [
    "from keras.preprocessing.image import ImageDataGenerator\n",
    "\n",
    "train_generator = ImageDataGenerator(\n",
    "    featurewise_center=True,\n",
    "    featurewise_std_normalization=True,\n",
    "    width_shift_range=4./img_cols,\n",
    "    height_shift_range=4./img_rows,\n",
    "    fill_mode='reflect',\n",
    "    horizontal_flip=True)\n",
    "train_generator.fit(trainX, seed=0)\n",
    "\n",
    "test_generator = ImageDataGenerator(\n",
    "    featurewise_center=True,\n",
    "    featurewise_std_normalization=True)\n",
    "test_generator.fit(trainX, seed=0)"
   ]
  },
  {
   "cell_type": "markdown",
   "metadata": {},
   "source": [
    "## Instantiate the Wide Residual Network"
   ]
  },
  {
   "cell_type": "code",
   "execution_count": null,
   "metadata": {},
   "outputs": [],
   "source": [
    "from deep_models import wide_residual_network as wrn\n",
    "from keras.utils import plot_model\n",
    "\n",
    "n = 4  # 6 * n + 4 is the depth\n",
    "k = 10  # k is the width\n",
    "dropout = 0.3\n",
    "\n",
    "fname = 'WRN-{}-{}{}'.format(N * 6 + 4, k, '-dropout' if dropout > 0 else '')\n",
    "model_path = '{}.h5'.format(fname)\n",
    "\n",
    "# Create the model\n",
    "model = wrn.build_model((img_cols, img_rows, img_channels), classes=classes, n=n, k=k, dropout=dropout)"
   ]
  },
  {
   "cell_type": "markdown",
   "metadata": {},
   "source": [
    "## Train the model"
   ]
  },
  {
   "cell_type": "code",
   "execution_count": null,
   "metadata": {},
   "outputs": [],
   "source": [
    "import keras.callbacks as callbacks\n",
    "from keras.optimizers import SGD\n",
    "\n",
    "epochs = 200\n",
    "batch_size = 64\n",
    "\n",
    "\n",
    "def scheduler(epoch, lr):\n",
    "    if epoch in [60, 120, 160]:\n",
    "        lr *= 0.2\n",
    "    return lr\n",
    "\n",
    "\n",
    "sgd = SGD(lr=0.1, momentum=0.9, decay=0.0, nesterov=True)\n",
    "model.compile(loss=\"categorical_crossentropy\", optimizer=sgd, metrics=[\"acc\"])\n",
    "\n",
    "# Train the model\n",
    "history = model.fit_generator(\n",
    "    train_generator.flow(trainX, trainY, batch_size=batch_size), \n",
    "    steps_per_epoch=len(trainX) / batch_size, \n",
    "    epochs=epochs,\n",
    "    validation_data=test_generator.flow(testX, testY),\n",
    "    callbacks=[\n",
    "        callbacks.ModelCheckpoint(model_path, monitor=\"val_acc\", save_best_only=True),\n",
    "        callbacks.LearningRateScheduler(scheduler)\n",
    "    ])"
   ]
  },
  {
   "cell_type": "markdown",
   "metadata": {},
   "source": [
    "## Save the final version"
   ]
  },
  {
   "cell_type": "code",
   "execution_count": null,
   "metadata": {},
   "outputs": [],
   "source": [
    "import time\n",
    "\n",
    "model.save('{}-{}.h5'.format(fname, time.time()))"
   ]
  },
  {
   "cell_type": "markdown",
   "metadata": {},
   "source": [
    "## Print model score"
   ]
  },
  {
   "cell_type": "code",
   "execution_count": null,
   "metadata": {},
   "outputs": [],
   "source": [
    "from keras.models import load_model\n",
    "model = load_model(model_path)\n",
    "\n",
    "metrics = model.evaluate_generator(test_generator.flow(valX, valY, shuffle=False))\n",
    "\n",
    "accuracy = metrics[1] * 100\n",
    "error = 100 - accuracy\n",
    "print(\"Accuracy : \", accuracy)\n",
    "print(\"Error : \", error)"
   ]
  },
  {
   "cell_type": "markdown",
   "metadata": {},
   "source": [
    "## Show the training history"
   ]
  },
  {
   "cell_type": "code",
   "execution_count": null,
   "metadata": {},
   "outputs": [],
   "source": [
    "import matplotlib.pyplot as plt\n",
    "%matplotlib inline\n",
    "\n",
    "# summarize history for accuracy  \n",
    "plt.figure(1)  \n",
    "plt.plot(history.history['acc'])  \n",
    "plt.plot(history.history['val_acc'])  \n",
    "plt.title('model accuracy')  \n",
    "plt.ylabel('accuracy')  \n",
    "plt.xlabel('epoch')  \n",
    "plt.legend(['train', 'test'], loc='upper left')  \n",
    "   \n",
    "# summarize history for loss  \n",
    "plt.figure(2)\n",
    "plt.plot(history.history['loss'])  \n",
    "plt.plot(history.history['val_loss'])  \n",
    "plt.title('model loss')  \n",
    "plt.ylabel('loss')  \n",
    "plt.xlabel('epoch')  \n",
    "plt.legend(['train', 'test'], loc='upper left')  \n",
    "plt.show()"
   ]
  }
 ],
 "metadata": {
  "kernelspec": {
   "display_name": "Python 3",
   "language": "python",
   "name": "python3"
  },
  "language_info": {
   "codemirror_mode": {
    "name": "ipython",
    "version": 3
   },
   "file_extension": ".py",
   "mimetype": "text/x-python",
   "name": "python",
   "nbconvert_exporter": "python",
   "pygments_lexer": "ipython3",
   "version": "3.5.2"
  }
 },
 "nbformat": 4,
 "nbformat_minor": 1
}
